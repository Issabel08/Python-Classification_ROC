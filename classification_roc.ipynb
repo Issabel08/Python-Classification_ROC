{
 "cells": [
  {
   "cell_type": "markdown",
   "metadata": {},
   "source": [
    "### Classification"
   ]
  },
  {
   "cell_type": "code",
   "execution_count": 1,
   "metadata": {},
   "outputs": [],
   "source": [
    "import warnings\n",
    "warnings.filterwarnings(\"ignore\")"
   ]
  },
  {
   "cell_type": "code",
   "execution_count": 2,
   "metadata": {},
   "outputs": [],
   "source": [
    "import numpy as np\n",
    "import pandas as pd\n",
    "import matplotlib\n",
    "import matplotlib.pyplot as plt\n",
    "from matplotlib import cm\n",
    "\n",
    "%matplotlib inline\n",
    "matplotlib.rcParams['figure.figsize'] = [8,8]\n",
    "np.random.seed(42)"
   ]
  },
  {
   "cell_type": "markdown",
   "metadata": {},
   "source": [
    "**Import Data**"
   ]
  },
  {
   "cell_type": "markdown",
   "metadata": {},
   "source": [
    "This data is based on Dermatology Data Set (https://archive.ics.uci.edu/ml/datasets/Dermatology)"
   ]
  },
  {
   "cell_type": "markdown",
   "metadata": {},
   "source": [
    "Number of Instances: 133\n",
    "\n",
    "Number of Attributes: 12\n",
    "\n",
    "Attribute Information:\n",
    "   - Clinical Attributes: (take values 0, 1, 2, 3, unless otherwise indicated)\n",
    "      - 1: erythema\n",
    "      - 2: scaling\n",
    "      - 3: definite borders\n",
    "      - 4: itching\n",
    "      - 5: koebner phenomenon\n",
    "      - 6: polygonal papules\n",
    "      - 7: follicular papules\n",
    "      - 8: oral mucosal involvement\n",
    "      - 9: knee and elbow involvement\n",
    "      - 10: scalp involvement\n",
    "      - 11: family history, (0 or 1)\n",
    "      - 12: Age (linear)\n",
    "      \n",
    "  \n",
    "    \"Class_code\"______________\"Class\"_______________\"Number of instances\"\n",
    "  \n",
    "         1             seboreic dermatitis                 61\n",
    "       \n",
    "        -1             no_seboreic dermatitis              72"
   ]
  },
  {
   "cell_type": "code",
   "execution_count": 3,
   "metadata": {},
   "outputs": [],
   "source": [
    "df=pd.read_csv('data/data.csv') "
   ]
  },
  {
   "cell_type": "code",
   "execution_count": 4,
   "metadata": {},
   "outputs": [
    {
     "data": {
      "text/html": [
       "<div>\n",
       "<style scoped>\n",
       "    .dataframe tbody tr th:only-of-type {\n",
       "        vertical-align: middle;\n",
       "    }\n",
       "\n",
       "    .dataframe tbody tr th {\n",
       "        vertical-align: top;\n",
       "    }\n",
       "\n",
       "    .dataframe thead th {\n",
       "        text-align: right;\n",
       "    }\n",
       "</style>\n",
       "<table border=\"1\" class=\"dataframe\">\n",
       "  <thead>\n",
       "    <tr style=\"text-align: right;\">\n",
       "      <th></th>\n",
       "      <th>erythema</th>\n",
       "      <th>scaling</th>\n",
       "      <th>definite_borders</th>\n",
       "      <th>itching</th>\n",
       "      <th>koebner_phenomenon</th>\n",
       "      <th>polygonal_papules</th>\n",
       "      <th>follicular_papules</th>\n",
       "      <th>oral_mucosal_involvement</th>\n",
       "      <th>knee_elbow_involvement</th>\n",
       "      <th>scalp_involvement</th>\n",
       "      <th>family_history</th>\n",
       "      <th>Age</th>\n",
       "      <th>output</th>\n",
       "    </tr>\n",
       "  </thead>\n",
       "  <tbody>\n",
       "    <tr>\n",
       "      <th>0</th>\n",
       "      <td>2</td>\n",
       "      <td>2</td>\n",
       "      <td>0</td>\n",
       "      <td>3</td>\n",
       "      <td>0</td>\n",
       "      <td>0</td>\n",
       "      <td>0</td>\n",
       "      <td>0</td>\n",
       "      <td>1</td>\n",
       "      <td>0</td>\n",
       "      <td>0</td>\n",
       "      <td>55</td>\n",
       "      <td>1</td>\n",
       "    </tr>\n",
       "    <tr>\n",
       "      <th>1</th>\n",
       "      <td>2</td>\n",
       "      <td>3</td>\n",
       "      <td>2</td>\n",
       "      <td>0</td>\n",
       "      <td>0</td>\n",
       "      <td>0</td>\n",
       "      <td>0</td>\n",
       "      <td>0</td>\n",
       "      <td>0</td>\n",
       "      <td>0</td>\n",
       "      <td>0</td>\n",
       "      <td>41</td>\n",
       "      <td>1</td>\n",
       "    </tr>\n",
       "    <tr>\n",
       "      <th>2</th>\n",
       "      <td>2</td>\n",
       "      <td>2</td>\n",
       "      <td>0</td>\n",
       "      <td>3</td>\n",
       "      <td>0</td>\n",
       "      <td>0</td>\n",
       "      <td>0</td>\n",
       "      <td>0</td>\n",
       "      <td>0</td>\n",
       "      <td>0</td>\n",
       "      <td>0</td>\n",
       "      <td>21</td>\n",
       "      <td>1</td>\n",
       "    </tr>\n",
       "    <tr>\n",
       "      <th>3</th>\n",
       "      <td>3</td>\n",
       "      <td>3</td>\n",
       "      <td>1</td>\n",
       "      <td>2</td>\n",
       "      <td>0</td>\n",
       "      <td>0</td>\n",
       "      <td>0</td>\n",
       "      <td>0</td>\n",
       "      <td>0</td>\n",
       "      <td>1</td>\n",
       "      <td>0</td>\n",
       "      <td>22</td>\n",
       "      <td>1</td>\n",
       "    </tr>\n",
       "    <tr>\n",
       "      <th>4</th>\n",
       "      <td>2</td>\n",
       "      <td>2</td>\n",
       "      <td>1</td>\n",
       "      <td>3</td>\n",
       "      <td>0</td>\n",
       "      <td>0</td>\n",
       "      <td>0</td>\n",
       "      <td>0</td>\n",
       "      <td>0</td>\n",
       "      <td>0</td>\n",
       "      <td>0</td>\n",
       "      <td>30</td>\n",
       "      <td>1</td>\n",
       "    </tr>\n",
       "  </tbody>\n",
       "</table>\n",
       "</div>"
      ],
      "text/plain": [
       "   erythema  scaling  definite_borders  itching  koebner_phenomenon  \\\n",
       "0         2        2                 0        3                   0   \n",
       "1         2        3                 2        0                   0   \n",
       "2         2        2                 0        3                   0   \n",
       "3         3        3                 1        2                   0   \n",
       "4         2        2                 1        3                   0   \n",
       "\n",
       "   polygonal_papules  follicular_papules  oral_mucosal_involvement  \\\n",
       "0                  0                   0                         0   \n",
       "1                  0                   0                         0   \n",
       "2                  0                   0                         0   \n",
       "3                  0                   0                         0   \n",
       "4                  0                   0                         0   \n",
       "\n",
       "   knee_elbow_involvement  scalp_involvement  family_history  Age  output  \n",
       "0                       1                  0               0   55       1  \n",
       "1                       0                  0               0   41       1  \n",
       "2                       0                  0               0   21       1  \n",
       "3                       0                  1               0   22       1  \n",
       "4                       0                  0               0   30       1  "
      ]
     },
     "execution_count": 4,
     "metadata": {},
     "output_type": "execute_result"
    }
   ],
   "source": [
    "df.head()"
   ]
  },
  {
   "cell_type": "markdown",
   "metadata": {},
   "source": [
    "classes distribution"
   ]
  },
  {
   "cell_type": "code",
   "execution_count": 5,
   "metadata": {},
   "outputs": [
    {
     "data": {
      "text/plain": [
       "0    72\n",
       "1    61\n",
       "Name: output, dtype: int64"
      ]
     },
     "execution_count": 5,
     "metadata": {},
     "output_type": "execute_result"
    }
   ],
   "source": [
    "y=df['output'].replace(-1,0)\n",
    "y.value_counts()"
   ]
  },
  {
   "cell_type": "code",
   "execution_count": 6,
   "metadata": {},
   "outputs": [
    {
     "data": {
      "text/html": [
       "<div>\n",
       "<style scoped>\n",
       "    .dataframe tbody tr th:only-of-type {\n",
       "        vertical-align: middle;\n",
       "    }\n",
       "\n",
       "    .dataframe tbody tr th {\n",
       "        vertical-align: top;\n",
       "    }\n",
       "\n",
       "    .dataframe thead th {\n",
       "        text-align: right;\n",
       "    }\n",
       "</style>\n",
       "<table border=\"1\" class=\"dataframe\">\n",
       "  <thead>\n",
       "    <tr style=\"text-align: right;\">\n",
       "      <th></th>\n",
       "      <th>erythema</th>\n",
       "      <th>scaling</th>\n",
       "      <th>definite_borders</th>\n",
       "      <th>itching</th>\n",
       "      <th>koebner_phenomenon</th>\n",
       "      <th>polygonal_papules</th>\n",
       "      <th>follicular_papules</th>\n",
       "      <th>oral_mucosal_involvement</th>\n",
       "      <th>knee_elbow_involvement</th>\n",
       "      <th>scalp_involvement</th>\n",
       "      <th>family_history</th>\n",
       "      <th>Age</th>\n",
       "    </tr>\n",
       "  </thead>\n",
       "  <tbody>\n",
       "    <tr>\n",
       "      <th>0</th>\n",
       "      <td>2</td>\n",
       "      <td>2</td>\n",
       "      <td>0</td>\n",
       "      <td>3</td>\n",
       "      <td>0</td>\n",
       "      <td>0</td>\n",
       "      <td>0</td>\n",
       "      <td>0</td>\n",
       "      <td>1</td>\n",
       "      <td>0</td>\n",
       "      <td>0</td>\n",
       "      <td>55</td>\n",
       "    </tr>\n",
       "    <tr>\n",
       "      <th>1</th>\n",
       "      <td>2</td>\n",
       "      <td>3</td>\n",
       "      <td>2</td>\n",
       "      <td>0</td>\n",
       "      <td>0</td>\n",
       "      <td>0</td>\n",
       "      <td>0</td>\n",
       "      <td>0</td>\n",
       "      <td>0</td>\n",
       "      <td>0</td>\n",
       "      <td>0</td>\n",
       "      <td>41</td>\n",
       "    </tr>\n",
       "    <tr>\n",
       "      <th>2</th>\n",
       "      <td>2</td>\n",
       "      <td>2</td>\n",
       "      <td>0</td>\n",
       "      <td>3</td>\n",
       "      <td>0</td>\n",
       "      <td>0</td>\n",
       "      <td>0</td>\n",
       "      <td>0</td>\n",
       "      <td>0</td>\n",
       "      <td>0</td>\n",
       "      <td>0</td>\n",
       "      <td>21</td>\n",
       "    </tr>\n",
       "    <tr>\n",
       "      <th>3</th>\n",
       "      <td>3</td>\n",
       "      <td>3</td>\n",
       "      <td>1</td>\n",
       "      <td>2</td>\n",
       "      <td>0</td>\n",
       "      <td>0</td>\n",
       "      <td>0</td>\n",
       "      <td>0</td>\n",
       "      <td>0</td>\n",
       "      <td>1</td>\n",
       "      <td>0</td>\n",
       "      <td>22</td>\n",
       "    </tr>\n",
       "    <tr>\n",
       "      <th>4</th>\n",
       "      <td>2</td>\n",
       "      <td>2</td>\n",
       "      <td>1</td>\n",
       "      <td>3</td>\n",
       "      <td>0</td>\n",
       "      <td>0</td>\n",
       "      <td>0</td>\n",
       "      <td>0</td>\n",
       "      <td>0</td>\n",
       "      <td>0</td>\n",
       "      <td>0</td>\n",
       "      <td>30</td>\n",
       "    </tr>\n",
       "  </tbody>\n",
       "</table>\n",
       "</div>"
      ],
      "text/plain": [
       "   erythema  scaling  definite_borders  itching  koebner_phenomenon  \\\n",
       "0         2        2                 0        3                   0   \n",
       "1         2        3                 2        0                   0   \n",
       "2         2        2                 0        3                   0   \n",
       "3         3        3                 1        2                   0   \n",
       "4         2        2                 1        3                   0   \n",
       "\n",
       "   polygonal_papules  follicular_papules  oral_mucosal_involvement  \\\n",
       "0                  0                   0                         0   \n",
       "1                  0                   0                         0   \n",
       "2                  0                   0                         0   \n",
       "3                  0                   0                         0   \n",
       "4                  0                   0                         0   \n",
       "\n",
       "   knee_elbow_involvement  scalp_involvement  family_history  Age  \n",
       "0                       1                  0               0   55  \n",
       "1                       0                  0               0   41  \n",
       "2                       0                  0               0   21  \n",
       "3                       0                  1               0   22  \n",
       "4                       0                  0               0   30  "
      ]
     },
     "execution_count": 6,
     "metadata": {},
     "output_type": "execute_result"
    }
   ],
   "source": [
    "df_new=df.drop('output',axis=1)\n",
    "df_new.head()"
   ]
  },
  {
   "cell_type": "markdown",
   "metadata": {},
   "source": [
    "### Modeling"
   ]
  },
  {
   "cell_type": "markdown",
   "metadata": {},
   "source": [
    "**Scaling data**"
   ]
  },
  {
   "cell_type": "code",
   "execution_count": 7,
   "metadata": {},
   "outputs": [
    {
     "data": {
      "text/html": [
       "<div>\n",
       "<style scoped>\n",
       "    .dataframe tbody tr th:only-of-type {\n",
       "        vertical-align: middle;\n",
       "    }\n",
       "\n",
       "    .dataframe tbody tr th {\n",
       "        vertical-align: top;\n",
       "    }\n",
       "\n",
       "    .dataframe thead th {\n",
       "        text-align: right;\n",
       "    }\n",
       "</style>\n",
       "<table border=\"1\" class=\"dataframe\">\n",
       "  <thead>\n",
       "    <tr style=\"text-align: right;\">\n",
       "      <th></th>\n",
       "      <th>0</th>\n",
       "      <th>1</th>\n",
       "      <th>2</th>\n",
       "      <th>3</th>\n",
       "      <th>4</th>\n",
       "      <th>5</th>\n",
       "      <th>6</th>\n",
       "      <th>7</th>\n",
       "      <th>8</th>\n",
       "      <th>9</th>\n",
       "      <th>10</th>\n",
       "      <th>11</th>\n",
       "    </tr>\n",
       "  </thead>\n",
       "  <tbody>\n",
       "    <tr>\n",
       "      <th>0</th>\n",
       "      <td>-0.284842</td>\n",
       "      <td>0.268863</td>\n",
       "      <td>-1.693099</td>\n",
       "      <td>1.109696</td>\n",
       "      <td>-0.727312</td>\n",
       "      <td>-0.991339</td>\n",
       "      <td>-0.087039</td>\n",
       "      <td>-0.9378</td>\n",
       "      <td>3.961021</td>\n",
       "      <td>-0.221699</td>\n",
       "      <td>-0.17609</td>\n",
       "      <td>1.347548</td>\n",
       "    </tr>\n",
       "    <tr>\n",
       "      <th>1</th>\n",
       "      <td>-0.284842</td>\n",
       "      <td>1.823595</td>\n",
       "      <td>0.461754</td>\n",
       "      <td>-2.145956</td>\n",
       "      <td>-0.727312</td>\n",
       "      <td>-0.991339</td>\n",
       "      <td>-0.087039</td>\n",
       "      <td>-0.9378</td>\n",
       "      <td>-0.187135</td>\n",
       "      <td>-0.221699</td>\n",
       "      <td>-0.17609</td>\n",
       "      <td>0.240251</td>\n",
       "    </tr>\n",
       "    <tr>\n",
       "      <th>2</th>\n",
       "      <td>-0.284842</td>\n",
       "      <td>0.268863</td>\n",
       "      <td>-1.693099</td>\n",
       "      <td>1.109696</td>\n",
       "      <td>-0.727312</td>\n",
       "      <td>-0.991339</td>\n",
       "      <td>-0.087039</td>\n",
       "      <td>-0.9378</td>\n",
       "      <td>-0.187135</td>\n",
       "      <td>-0.221699</td>\n",
       "      <td>-0.17609</td>\n",
       "      <td>-1.341601</td>\n",
       "    </tr>\n",
       "    <tr>\n",
       "      <th>3</th>\n",
       "      <td>1.362288</td>\n",
       "      <td>1.823595</td>\n",
       "      <td>-0.615672</td>\n",
       "      <td>0.024479</td>\n",
       "      <td>-0.727312</td>\n",
       "      <td>-0.991339</td>\n",
       "      <td>-0.087039</td>\n",
       "      <td>-0.9378</td>\n",
       "      <td>-0.187135</td>\n",
       "      <td>3.054521</td>\n",
       "      <td>-0.17609</td>\n",
       "      <td>-1.262508</td>\n",
       "    </tr>\n",
       "    <tr>\n",
       "      <th>4</th>\n",
       "      <td>-0.284842</td>\n",
       "      <td>0.268863</td>\n",
       "      <td>-0.615672</td>\n",
       "      <td>1.109696</td>\n",
       "      <td>-0.727312</td>\n",
       "      <td>-0.991339</td>\n",
       "      <td>-0.087039</td>\n",
       "      <td>-0.9378</td>\n",
       "      <td>-0.187135</td>\n",
       "      <td>-0.221699</td>\n",
       "      <td>-0.17609</td>\n",
       "      <td>-0.629767</td>\n",
       "    </tr>\n",
       "  </tbody>\n",
       "</table>\n",
       "</div>"
      ],
      "text/plain": [
       "         0         1         2         3         4         5         6   \\\n",
       "0 -0.284842  0.268863 -1.693099  1.109696 -0.727312 -0.991339 -0.087039   \n",
       "1 -0.284842  1.823595  0.461754 -2.145956 -0.727312 -0.991339 -0.087039   \n",
       "2 -0.284842  0.268863 -1.693099  1.109696 -0.727312 -0.991339 -0.087039   \n",
       "3  1.362288  1.823595 -0.615672  0.024479 -0.727312 -0.991339 -0.087039   \n",
       "4 -0.284842  0.268863 -0.615672  1.109696 -0.727312 -0.991339 -0.087039   \n",
       "\n",
       "       7         8         9        10        11  \n",
       "0 -0.9378  3.961021 -0.221699 -0.17609  1.347548  \n",
       "1 -0.9378 -0.187135 -0.221699 -0.17609  0.240251  \n",
       "2 -0.9378 -0.187135 -0.221699 -0.17609 -1.341601  \n",
       "3 -0.9378 -0.187135  3.054521 -0.17609 -1.262508  \n",
       "4 -0.9378 -0.187135 -0.221699 -0.17609 -0.629767  "
      ]
     },
     "execution_count": 7,
     "metadata": {},
     "output_type": "execute_result"
    }
   ],
   "source": [
    "from sklearn.preprocessing import StandardScaler\n",
    "\n",
    "scaler = StandardScaler()\n",
    "scaler.fit(df_new)\n",
    "df_scaled=pd.DataFrame(scaler.transform(df_new))\n",
    "\n",
    "df_scaled.head()"
   ]
  },
  {
   "cell_type": "markdown",
   "metadata": {},
   "source": [
    "**Apply PCA on scaled data**"
   ]
  },
  {
   "cell_type": "code",
   "execution_count": 8,
   "metadata": {},
   "outputs": [
    {
     "data": {
      "text/html": [
       "<div>\n",
       "<style scoped>\n",
       "    .dataframe tbody tr th:only-of-type {\n",
       "        vertical-align: middle;\n",
       "    }\n",
       "\n",
       "    .dataframe tbody tr th {\n",
       "        vertical-align: top;\n",
       "    }\n",
       "\n",
       "    .dataframe thead th {\n",
       "        text-align: right;\n",
       "    }\n",
       "</style>\n",
       "<table border=\"1\" class=\"dataframe\">\n",
       "  <thead>\n",
       "    <tr style=\"text-align: right;\">\n",
       "      <th></th>\n",
       "      <th>PC1</th>\n",
       "      <th>PC2</th>\n",
       "    </tr>\n",
       "  </thead>\n",
       "  <tbody>\n",
       "    <tr>\n",
       "      <th>0</th>\n",
       "      <td>-1.651641</td>\n",
       "      <td>0.275365</td>\n",
       "    </tr>\n",
       "    <tr>\n",
       "      <th>1</th>\n",
       "      <td>-1.822186</td>\n",
       "      <td>0.047085</td>\n",
       "    </tr>\n",
       "    <tr>\n",
       "      <th>2</th>\n",
       "      <td>-1.755028</td>\n",
       "      <td>-0.406459</td>\n",
       "    </tr>\n",
       "    <tr>\n",
       "      <th>3</th>\n",
       "      <td>-2.555338</td>\n",
       "      <td>-2.101450</td>\n",
       "    </tr>\n",
       "    <tr>\n",
       "      <th>4</th>\n",
       "      <td>-1.262875</td>\n",
       "      <td>-0.324287</td>\n",
       "    </tr>\n",
       "  </tbody>\n",
       "</table>\n",
       "</div>"
      ],
      "text/plain": [
       "        PC1       PC2\n",
       "0 -1.651641  0.275365\n",
       "1 -1.822186  0.047085\n",
       "2 -1.755028 -0.406459\n",
       "3 -2.555338 -2.101450\n",
       "4 -1.262875 -0.324287"
      ]
     },
     "execution_count": 8,
     "metadata": {},
     "output_type": "execute_result"
    }
   ],
   "source": [
    "from sklearn.decomposition import PCA\n",
    "\n",
    "df_scaled_pca = PCA(n_components=2).fit_transform(df_scaled)\n",
    "df_scaled_pca = pd.DataFrame(df_scaled_pca, columns=[\"PC1\", \"PC2\"])\n",
    "\n",
    "df_scaled_pca.head()"
   ]
  },
  {
   "cell_type": "markdown",
   "metadata": {},
   "source": [
    "**Training**"
   ]
  },
  {
   "cell_type": "code",
   "execution_count": 9,
   "metadata": {},
   "outputs": [],
   "source": [
    "from sklearn.linear_model import LogisticRegression\n",
    "from sklearn.ensemble import RandomForestClassifier\n",
    "from sklearn.naive_bayes import BernoulliNB\n",
    "from sklearn.neural_network import MLPClassifier\n",
    "from sklearn.svm import LinearSVC\n",
    "from sklearn.model_selection import train_test_split\n",
    "from sklearn.metrics import f1_score\n",
    "\n",
    "#Function to train with opcion to choice a classifier and return the f1_score\n",
    "def split_clf(X,y,classificator):\n",
    "    if classificator=='NB':\n",
    "        clf = BernoulliNB()\n",
    "    elif classificator=='MLP':\n",
    "        clf = MLPClassifier(activation='tanh', learning_rate_init=.001, random_state=0)\n",
    "    elif classificator=='SVC':   \n",
    "        clf = LinearSVC(random_state=0, tol=1e-5)\n",
    "    elif classificator=='FOREST':\n",
    "        clf = RandomForestClassifier(n_estimators=10,random_state=0)\n",
    "    elif classificator=='LOGR':\n",
    "        clf = LogisticRegression(solver='liblinear',random_state=0)\n",
    "    else:\n",
    "        return None\n",
    "    \n",
    "    X=X.values\n",
    "    list_metrics=[]\n",
    "    list_test_size=[]\n",
    "\n",
    "    for n in np.linspace(0.1,0.9,9):\n",
    "        X_train, X_test, y_train, y_test = train_test_split(X, y, test_size=n, random_state=0)\n",
    "        clf.fit(X_train,y_train)    \n",
    "        pred=clf.predict(X_test)\n",
    "        list_metrics.append(f1_score(y_test,pred))\n",
    "    return list_metrics\n",
    "\n",
    "#Function to plot f1_score for all the classifiers\n",
    "def plt_hold_out(d,y,txt_title):\n",
    "    results=['NB','FOREST','LOGR']\n",
    "    range_=[0.1,0.2,0.3,0.4,0.5,0.6,0.7,0.8,0.9]\n",
    "    lines=[7,5,3]\n",
    "\n",
    "    for no_clus in range(len(results)):\n",
    "        line=plt.plot(range_,split_clf(d,y,results[no_clus]),linewidth=lines[no_clus])\n",
    "    plt.title(txt_title)\n",
    "    plt.xlabel('Data test %')\n",
    "    plt.ylabel('F1 score')\n",
    "    plt.legend(results, loc=4)\n",
    "    plt.show()"
   ]
  },
  {
   "cell_type": "code",
   "execution_count": 10,
   "metadata": {},
   "outputs": [
    {
     "data": {
      "image/png": "[encoded data removed]",
      "text/plain": [
       "<Figure size 432x288 with 1 Axes>"
      ]
     },
     "metadata": {
      "needs_background": "light"
     },
     "output_type": "display_data"
    }
   ],
   "source": [
    "#Plot f1_score for each classifier\n",
    "d=df_new\n",
    "plt_hold_out(d,y,'Model Selection:  Hold-Out Strategy')"
   ]
  },
  {
   "cell_type": "code",
   "execution_count": 11,
   "metadata": {},
   "outputs": [
    {
     "data": {
      "image/png": "[encoded data removed]",
      "text/plain": [
       "<Figure size 432x288 with 1 Axes>"
      ]
     },
     "metadata": {
      "needs_background": "light"
     },
     "output_type": "display_data"
    }
   ],
   "source": [
    "#Plot f1_score for each classifier with scaled data\n",
    "d=df_scaled\n",
    "plt_hold_out(d,y,'Model Selection:  Hold-Out Strategy (Data Scaled)')"
   ]
  },
  {
   "cell_type": "code",
   "execution_count": 12,
   "metadata": {},
   "outputs": [
    {
     "data": {
      "image/png": "[encoded data removed]",
      "text/plain": [
       "<Figure size 432x288 with 1 Axes>"
      ]
     },
     "metadata": {
      "needs_background": "light"
     },
     "output_type": "display_data"
    }
   ],
   "source": [
    "#Plot f1_score for each classifier with scaled data and reduction to dimensionality\n",
    "d=df_scaled_pca\n",
    "plt_hold_out(d,y,'Model Selection:  Hold-Out Strategy (Data Scaled and PCA)')"
   ]
  },
  {
   "cell_type": "markdown",
   "metadata": {},
   "source": [
    "Train a new classifier to calculate his metrics"
   ]
  },
  {
   "cell_type": "code",
   "execution_count": 13,
   "metadata": {},
   "outputs": [
    {
     "name": "stdout",
     "output_type": "stream",
     "text": [
      "f1_score:  0.9795918367346939\n"
     ]
    }
   ],
   "source": [
    "clf = BernoulliNB()\n",
    "X_train, X_test, y_train, y_test = train_test_split(df_new, y, test_size=0.35, random_state=0)\n",
    "clf.fit(X_train,y_train)    \n",
    "pred=clf.predict(X_test)\n",
    "print('f1_score: ', f1_score(y_test,pred))"
   ]
  },
  {
   "cell_type": "markdown",
   "metadata": {},
   "source": [
    "class distributions"
   ]
  },
  {
   "cell_type": "code",
   "execution_count": 14,
   "metadata": {},
   "outputs": [
    {
     "name": "stdout",
     "output_type": "stream",
     "text": [
      "Examples positives: 24 and Examples negatives: 23\n"
     ]
    }
   ],
   "source": [
    "num_positives=y_test.value_counts()[1]\n",
    "num_negatives=y_test.value_counts()[0]\n",
    "print('Examples positives: {} and Examples negatives: {}'.format(num_positives,num_negatives))"
   ]
  },
  {
   "cell_type": "markdown",
   "metadata": {},
   "source": [
    "Comparing the true and predicted response values"
   ]
  },
  {
   "cell_type": "code",
   "execution_count": 15,
   "metadata": {},
   "outputs": [],
   "source": [
    "comp_results=pd.DataFrame(y_test)\n",
    "comp_results['predictions']=pred\n",
    "comp_results=comp_results.sort_values(by='output',ascending=False)"
   ]
  },
  {
   "cell_type": "markdown",
   "metadata": {},
   "source": [
    "Calculating Confusion_Matrix and F1_score"
   ]
  },
  {
   "cell_type": "code",
   "execution_count": 16,
   "metadata": {},
   "outputs": [
    {
     "name": "stdout",
     "output_type": "stream",
     "text": [
      "F1 SCORE:  0.9795918367346939\n"
     ]
    }
   ],
   "source": [
    "TP=(comp_results.query('output==predictions and output==1')).shape[0]\n",
    "TN=(comp_results.query('output==predictions and output==0')).shape[0]\n",
    "FP=(comp_results.query('output!=predictions and output==0')).shape[0]\n",
    "FN=(comp_results.query('output!=predictions and output==1')).shape[0]\n",
    "ACC=(TP+TN)/y_test.shape[0]\n",
    "SEN=TP/num_positives\n",
    "ESP=TN/num_negatives\n",
    "PREC=TP/(TP+FP)\n",
    "F1_SCORE= 2 * (PREC * SEN) / (PREC + SEN)\n",
    "print('F1 SCORE: ',F1_SCORE) #we calculated the same value than sklearn"
   ]
  },
  {
   "cell_type": "code",
   "execution_count": 17,
   "metadata": {},
   "outputs": [
    {
     "name": "stdout",
     "output_type": "stream",
     "text": [
      "Confusion Matrix calculated:\n"
     ]
    },
    {
     "data": {
      "text/html": [
       "<div>\n",
       "<style scoped>\n",
       "    .dataframe tbody tr th:only-of-type {\n",
       "        vertical-align: middle;\n",
       "    }\n",
       "\n",
       "    .dataframe tbody tr th {\n",
       "        vertical-align: top;\n",
       "    }\n",
       "\n",
       "    .dataframe thead th {\n",
       "        text-align: right;\n",
       "    }\n",
       "</style>\n",
       "<table border=\"1\" class=\"dataframe\">\n",
       "  <thead>\n",
       "    <tr style=\"text-align: right;\">\n",
       "      <th></th>\n",
       "      <th>POSITIVE CLASS</th>\n",
       "      <th>NEGATIVE CLASS</th>\n",
       "    </tr>\n",
       "  </thead>\n",
       "  <tbody>\n",
       "    <tr>\n",
       "      <th>Prediction POS</th>\n",
       "      <td>24</td>\n",
       "      <td>1</td>\n",
       "    </tr>\n",
       "    <tr>\n",
       "      <th>Prediction NEG</th>\n",
       "      <td>0</td>\n",
       "      <td>22</td>\n",
       "    </tr>\n",
       "  </tbody>\n",
       "</table>\n",
       "</div>"
      ],
      "text/plain": [
       "                POSITIVE CLASS  NEGATIVE CLASS\n",
       "Prediction POS              24               1\n",
       "Prediction NEG               0              22"
      ]
     },
     "execution_count": 17,
     "metadata": {},
     "output_type": "execute_result"
    }
   ],
   "source": [
    "CONFUSION_MATRIX=pd.DataFrame([TP,FN], columns=['POSITIVE CLASS'])\n",
    "CONFUSION_MATRIX['NEGATIVE CLASS']=[FP,TN]\n",
    "new_index=['Prediction POS','Prediction NEG']\n",
    "CONFUSION_MATRIX=CONFUSION_MATRIX.set_index([new_index])\n",
    "print('Confusion Matrix calculated:')\n",
    "CONFUSION_MATRIX"
   ]
  },
  {
   "cell_type": "markdown",
   "metadata": {},
   "source": [
    "Plot ROC curve"
   ]
  },
  {
   "cell_type": "code",
   "execution_count": 18,
   "metadata": {},
   "outputs": [
    {
     "data": {
      "image/png": "[encoded data removed]",
      "text/plain": [
       "<Figure size 432x288 with 1 Axes>"
      ]
     },
     "metadata": {
      "needs_background": "light"
     },
     "output_type": "display_data"
    }
   ],
   "source": [
    "from sklearn.metrics import roc_curve\n",
    "from sklearn.metrics import roc_auc_score\n",
    "from matplotlib import pyplot\n",
    "\n",
    "fpr, tpr, thresholds = roc_curve(y_test, pred)\n",
    "auc = roc_auc_score(y_test, pred)\n",
    "\n",
    "\n",
    "plt.figure()\n",
    "plt.plot(fpr, tpr, color='darkorange', lw=1, label='ROC curve (area = %0.2f)' % auc)\n",
    "plt.plot([0, 1], [0, 1], color='navy',  linestyle='--')\n",
    "plt.xlim([0.0, 1.0])\n",
    "plt.ylim([0.0, 1.05])\n",
    "plt.xlabel('False Positive Rate')\n",
    "plt.ylabel('True Positive Rate')\n",
    "plt.title('Receiver Operating Characteristic')\n",
    "plt.legend(loc=\"lower right\")\n",
    "plt.show()"
   ]
  }
 ],
 "metadata": {
  "kernelspec": {
   "display_name": "Python 3",
   "language": "python",
   "name": "python3"
  },
  "language_info": {
   "codemirror_mode": {
    "name": "ipython",
    "version": 3
   },
   "file_extension": ".py",
   "mimetype": "text/x-python",
   "name": "python",
   "nbconvert_exporter": "python",
   "pygments_lexer": "ipython3",
   "version": "3.7.3"
  }
 },
 "nbformat": 4,
 "nbformat_minor": 2
}
